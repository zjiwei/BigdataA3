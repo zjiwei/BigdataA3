{
 "cells": [
  {
   "cell_type": "markdown",
   "metadata": {},
   "source": [
    "# Problem 1 - Working with RDDs (5 points)\n",
    "\n",
    "This is an interactive PySpark session. Remember that when you open this notebook the `SparkContext` and `SparkSession` are already created, and they are in the `sc` and `spark` variables, respectively. You can run the following two cells to make sure that the Kernel is active.\n",
    "\n",
    "**Do not insert any additional cells than the ones that are provided.**"
   ]
  },
  {
   "cell_type": "code",
   "execution_count": 1,
   "metadata": {},
   "outputs": [
    {
     "data": {
      "text/html": [
       "\n",
       "        <div>\n",
       "            <p><b>SparkContext</b></p>\n",
       "\n",
       "            <p><a href=\"http://ip-172-31-29-46.ec2.internal:4040\">Spark UI</a></p>\n",
       "\n",
       "            <dl>\n",
       "              <dt>Version</dt>\n",
       "                <dd><code>v2.2.1</code></dd>\n",
       "              <dt>Master</dt>\n",
       "                <dd><code>yarn</code></dd>\n",
       "              <dt>AppName</dt>\n",
       "                <dd><code>PySparkShell</code></dd>\n",
       "            </dl>\n",
       "        </div>\n",
       "        "
      ],
      "text/plain": [
       "<SparkContext master=yarn appName=PySparkShell>"
      ]
     },
     "execution_count": 1,
     "metadata": {},
     "output_type": "execute_result"
    }
   ],
   "source": [
    "sc"
   ]
  },
  {
   "cell_type": "code",
   "execution_count": 2,
   "metadata": {},
   "outputs": [
    {
     "data": {
      "text/html": [
       "\n",
       "            <div>\n",
       "                <p><b>SparkSession - hive</b></p>\n",
       "                \n",
       "        <div>\n",
       "            <p><b>SparkContext</b></p>\n",
       "\n",
       "            <p><a href=\"http://ip-172-31-29-46.ec2.internal:4040\">Spark UI</a></p>\n",
       "\n",
       "            <dl>\n",
       "              <dt>Version</dt>\n",
       "                <dd><code>v2.2.1</code></dd>\n",
       "              <dt>Master</dt>\n",
       "                <dd><code>yarn</code></dd>\n",
       "              <dt>AppName</dt>\n",
       "                <dd><code>PySparkShell</code></dd>\n",
       "            </dl>\n",
       "        </div>\n",
       "        \n",
       "            </div>\n",
       "        "
      ],
      "text/plain": [
       "<pyspark.sql.session.SparkSession at 0x7f83ce222950>"
      ]
     },
     "execution_count": 2,
     "metadata": {},
     "output_type": "execute_result"
    }
   ],
   "source": [
    "spark"
   ]
  },
  {
   "cell_type": "markdown",
   "metadata": {},
   "source": [
    "In the following cell, make an RDD called `top1m` that contains the contents of the file `top-1m.csv` that you placed into the cluster's HDFS."
   ]
  },
  {
   "cell_type": "code",
   "execution_count": 3,
   "metadata": {},
   "outputs": [],
   "source": [
    "top1m=sc.textFile(\"top-1m.csv\")"
   ]
  },
  {
   "cell_type": "markdown",
   "metadata": {},
   "source": [
    "There is one element in the RDD for each line in the file. The `.count()` method will compute how many lines are in the file. In the following cell, type the expression to count the lines in the `top1m` RDD. Run the cell and see the result."
   ]
  },
  {
   "cell_type": "code",
   "execution_count": 4,
   "metadata": {},
   "outputs": [
    {
     "data": {
      "text/plain": [
       "1000000"
      ]
     },
     "execution_count": 4,
     "metadata": {},
     "output_type": "execute_result"
    }
   ],
   "source": [
    "top1m.count()"
   ]
  },
  {
   "cell_type": "markdown",
   "metadata": {},
   "source": [
    "## Count the `.com` domains\n",
    "\n",
    "How many of the websites in this RDD are in the .com domain?\n",
    "\n",
    "In the following cell, write a code snippet that finds the records with `.com` and counts them. (Hint: use a regular expression.)"
   ]
  },
  {
   "cell_type": "code",
   "execution_count": 8,
   "metadata": {},
   "outputs": [
    {
     "data": {
      "text/plain": [
       "484593"
      ]
     },
     "execution_count": 8,
     "metadata": {},
     "output_type": "execute_result"
    }
   ],
   "source": [
    "top1m.map(lambda i: i.endswith('com')).filter(lambda x: x==True).count()"
   ]
  },
  {
   "cell_type": "markdown",
   "metadata": {},
   "source": [
    "## Histogram the Top Level Domains (TLDs)\n",
    "\n",
    "What is the distribution of TLDs in the top 1 million websites? We can quickly compute this using the RDD function `countByValue()`."
   ]
  },
  {
   "cell_type": "markdown",
   "metadata": {},
   "source": [
    "In the following cell, write a function called `tld` (in Python) that takes a domain name string and outputs the top-level domain."
   ]
  },
  {
   "cell_type": "code",
   "execution_count": 9,
   "metadata": {},
   "outputs": [],
   "source": [
    "import re\n",
    "\n",
    "def tld(i):\n",
    "    domain= re.compile(r'[a-z]{2,3}').findall(i.lower())[-1]\n",
    "    return(domain)"
   ]
  },
  {
   "cell_type": "markdown",
   "metadata": {},
   "source": [
    "In the following cell, map the `top1m` RDD using `tld` into a new RDD called `tlds`. "
   ]
  },
  {
   "cell_type": "code",
   "execution_count": 10,
   "metadata": {},
   "outputs": [],
   "source": [
    "tlds=top1m.map(lambda x: tld(x))"
   ]
  },
  {
   "cell_type": "markdown",
   "metadata": {},
   "source": [
    "In the following two cells, evaluate `top1m.first()` and  `tlds.first()` to see if the first line of `top1m` transformed by `tld` is properly represented as the first line of `tlds`. "
   ]
  },
  {
   "cell_type": "code",
   "execution_count": 11,
   "metadata": {},
   "outputs": [
    {
     "data": {
      "text/plain": [
       "u'1,google.com'"
      ]
     },
     "execution_count": 11,
     "metadata": {},
     "output_type": "execute_result"
    }
   ],
   "source": [
    "top1m.first()"
   ]
  },
  {
   "cell_type": "code",
   "execution_count": 12,
   "metadata": {},
   "outputs": [
    {
     "data": {
      "text/plain": [
       "u'com'"
      ]
     },
     "execution_count": 12,
     "metadata": {},
     "output_type": "execute_result"
    }
   ],
   "source": [
    "tlds.first()"
   ]
  },
  {
   "cell_type": "markdown",
   "metadata": {},
   "source": [
    "Look at the first 50 elements of `top1m` by evaluating `top1m.take(50)`."
   ]
  },
  {
   "cell_type": "code",
   "execution_count": 13,
   "metadata": {},
   "outputs": [
    {
     "data": {
      "text/plain": [
       "[u'1,google.com',\n",
       " u'2,youtube.com',\n",
       " u'3,facebook.com',\n",
       " u'4,baidu.com',\n",
       " u'5,wikipedia.org',\n",
       " u'6,yahoo.com',\n",
       " u'7,qq.com',\n",
       " u'8,amazon.com',\n",
       " u'9,taobao.com',\n",
       " u'10,twitter.com',\n",
       " u'11,google.co.in',\n",
       " u'12,tmall.com',\n",
       " u'13,instagram.com',\n",
       " u'14,live.com',\n",
       " u'15,vk.com',\n",
       " u'16,sohu.com',\n",
       " u'17,jd.com',\n",
       " u'18,sina.com.cn',\n",
       " u'19,reddit.com',\n",
       " u'20,weibo.com',\n",
       " u'21,google.co.jp',\n",
       " u'22,yandex.ru',\n",
       " u'23,360.cn',\n",
       " u'24,blogspot.com',\n",
       " u'25,login.tmall.com',\n",
       " u'26,linkedin.com',\n",
       " u'27,pornhub.com',\n",
       " u'28,google.ru',\n",
       " u'29,netflix.com',\n",
       " u'30,google.com.br',\n",
       " u'31,google.com.hk',\n",
       " u'32,google.co.uk',\n",
       " u'33,bongacams.com',\n",
       " u'34,yahoo.co.jp',\n",
       " u'35,google.fr',\n",
       " u'36,csdn.net',\n",
       " u'37,t.co',\n",
       " u'38,google.de',\n",
       " u'39,ebay.com',\n",
       " u'40,microsoft.com',\n",
       " u'41,alipay.com',\n",
       " u'42,office.com',\n",
       " u'43,twitch.tv',\n",
       " u'44,msn.com',\n",
       " u'45,bing.com',\n",
       " u'46,xvideos.com',\n",
       " u'47,microsoftonline.com',\n",
       " u'48,mail.ru',\n",
       " u'49,pages.tmall.com',\n",
       " u'50,ok.ru']"
      ]
     },
     "execution_count": 13,
     "metadata": {},
     "output_type": "execute_result"
    }
   ],
   "source": [
    "top1m.take(50)"
   ]
  },
  {
   "cell_type": "markdown",
   "metadata": {},
   "source": [
    "Try the same thing with the `tlds` RDD to make sure that the first 50 lines were properly transformed.\n"
   ]
  },
  {
   "cell_type": "code",
   "execution_count": 14,
   "metadata": {},
   "outputs": [
    {
     "data": {
      "text/plain": [
       "[u'com',\n",
       " u'com',\n",
       " u'com',\n",
       " u'com',\n",
       " u'org',\n",
       " u'com',\n",
       " u'com',\n",
       " u'com',\n",
       " u'com',\n",
       " u'com',\n",
       " u'in',\n",
       " u'com',\n",
       " u'com',\n",
       " u'com',\n",
       " u'com',\n",
       " u'com',\n",
       " u'com',\n",
       " u'cn',\n",
       " u'com',\n",
       " u'com',\n",
       " u'jp',\n",
       " u'ru',\n",
       " u'cn',\n",
       " u'com',\n",
       " u'com',\n",
       " u'com',\n",
       " u'com',\n",
       " u'ru',\n",
       " u'com',\n",
       " u'br',\n",
       " u'hk',\n",
       " u'uk',\n",
       " u'com',\n",
       " u'jp',\n",
       " u'fr',\n",
       " u'net',\n",
       " u'co',\n",
       " u'de',\n",
       " u'com',\n",
       " u'com',\n",
       " u'com',\n",
       " u'com',\n",
       " u'tv',\n",
       " u'com',\n",
       " u'com',\n",
       " u'com',\n",
       " u'com',\n",
       " u'ru',\n",
       " u'com',\n",
       " u'ru']"
      ]
     },
     "execution_count": 14,
     "metadata": {},
     "output_type": "execute_result"
    }
   ],
   "source": [
    "tlds.take(50)"
   ]
  },
  {
   "cell_type": "markdown",
   "metadata": {},
   "source": [
    "At this point, `tlds.countByValue()` would give us a list of each TLD and the number of times that it appears in the top1m file. Note that this function returns the results as a `defaultDict` in the Python environemnt, not as an RDD. But we want it reverse sorted by count. To do this, we can set a variable called `tlds_and_counts` equal to `tlds.countByValue()` and then reverse the order, sort, and take the top 50, like this:\n",
    "\n",
    "```\n",
    "tlds_and_counts = tlds.countByValue()\n",
    "counts_and_tlds = [(count,domain) for (domain,count) in tlds_and_counts.items()]\n",
    "```\n",
    "\n",
    "In the following cell, run the code above to produce the Python Dictionary."
   ]
  },
  {
   "cell_type": "code",
   "execution_count": 15,
   "metadata": {},
   "outputs": [],
   "source": [
    "tlds_and_counts = tlds.countByValue()\n",
    "counts_and_tlds = [(count,domain) for (domain,count) in tlds_and_counts.items()]"
   ]
  },
  {
   "cell_type": "markdown",
   "metadata": {},
   "source": [
    "In the following cell, reverse sort `counts_and_tlds` and display the first 50."
   ]
  },
  {
   "cell_type": "code",
   "execution_count": 34,
   "metadata": {},
   "outputs": [
    {
     "data": {
      "text/plain": [
       "[(484593, u'com'),\n",
       " (45610, u'org'),\n",
       " (41336, u'net'),\n",
       " (40243, u'ru'),\n",
       " (34517, u'de'),\n",
       " (28186, u'br'),\n",
       " (18616, u'uk'),\n",
       " (16903, u'pl'),\n",
       " (15507, u'ir'),\n",
       " (12239, u'it'),\n",
       " (12041, u'in'),\n",
       " (10346, u'fr'),\n",
       " (9411, u'au'),\n",
       " (8753, u'jp'),\n",
       " (8414, u'inf'),\n",
       " (8070, u'cz'),\n",
       " (6683, u'es'),\n",
       " (6340, u'nl'),\n",
       " (6262, u'ua'),\n",
       " (6091, u'co'),\n",
       " (5706, u'cn'),\n",
       " (5634, u'ca'),\n",
       " (5627, u'io'),\n",
       " (5246, u'tw'),\n",
       " (5009, u'eu'),\n",
       " (4825, u'ch'),\n",
       " (4812, u'kr'),\n",
       " (4794, u'gr'),\n",
       " (4512, u'mx'),\n",
       " (3864, u'se'),\n",
       " (3841, u'ro'),\n",
       " (3631, u'no'),\n",
       " (3608, u'at'),\n",
       " (3484, u'me'),\n",
       " (3469, u'tv'),\n",
       " (3392, u'be'),\n",
       " (3277, u'za'),\n",
       " (3266, u'hu'),\n",
       " (3076, u'vn'),\n",
       " (3039, u'sk'),\n",
       " (3023, u'ar'),\n",
       " (3020, u'us'),\n",
       " (2798, u'edu'),\n",
       " (2769, u'dk'),\n",
       " (2553, u'tr'),\n",
       " (2439, u'pt'),\n",
       " (2300, u'biz'),\n",
       " (2256, u'cl'),\n",
       " (2228, u'id'),\n",
       " (2154, u'fi')]"
      ]
     },
     "execution_count": 34,
     "metadata": {},
     "output_type": "execute_result"
    }
   ],
   "source": [
    "sorted(counts_and_tlds, key=lambda x: x[0],reverse=True)[:50]"
   ]
  },
  {
   "cell_type": "markdown",
   "metadata": {},
   "source": [
    "**Question:** `top1m.collect()[0:50]` and `top1m.take(50)` produce the same result. Which one is more efficient and why? Put your answer in the cell below."
   ]
  },
  {
   "cell_type": "code",
   "execution_count": null,
   "metadata": {
    "collapsed": true
   },
   "outputs": [],
   "source": [
    "## Answer Here (don't run this cell)\n",
    "The latter one. Because the function of collect will load all of the elements of the RDD, which will spend a lot of time and memory."
   ]
  },
  {
   "cell_type": "markdown",
   "metadata": {},
   "source": [
    "When you finish this problem, click on the File -> 'Save and Checkpoint' in the menu bar to make sure that the latest version of the workbook file is saved. Also, before you close this notebook and move on, make sure you disconnect your SparkContext, otherwise you will not be able to re-allocate resources. Remember, you will commit the .ipynb file to the repository for submission (in the master node terminal.)"
   ]
  },
  {
   "cell_type": "code",
   "execution_count": 38,
   "metadata": {},
   "outputs": [],
   "source": [
    "sc.stop()"
   ]
  }
 ],
 "metadata": {
  "kernelspec": {
   "display_name": "Python 2",
   "language": "python",
   "name": "python2"
  },
  "language_info": {
   "codemirror_mode": {
    "name": "ipython",
    "version": 2
   },
   "file_extension": ".py",
   "mimetype": "text/x-python",
   "name": "python",
   "nbconvert_exporter": "python",
   "pygments_lexer": "ipython2",
   "version": "2.7.13"
  }
 },
 "nbformat": 4,
 "nbformat_minor": 2
}
